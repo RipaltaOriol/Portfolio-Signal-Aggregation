{
 "cells": [
  {
   "cell_type": "code",
   "execution_count": 5,
   "metadata": {},
   "outputs": [
    {
     "name": "stdout",
     "output_type": "stream",
     "text": [
      "The autoreload extension is already loaded. To reload it, use:\n",
      "  %reload_ext autoreload\n"
     ]
    }
   ],
   "source": [
    "%load_ext autoreload\n",
    "%autoreload 2"
   ]
  },
  {
   "cell_type": "code",
   "execution_count": 6,
   "metadata": {},
   "outputs": [],
   "source": [
    "import pandas as pd\n",
    "import numpy as np"
   ]
  },
  {
   "cell_type": "code",
   "execution_count": 7,
   "metadata": {},
   "outputs": [
    {
     "data": {
      "text/plain": [
       "(array([[2, 3, 7],\n",
       "        [5, 8, 1]]),\n",
       " matrix([[2, 3, 7],\n",
       "         [5, 8, 1]]))"
      ]
     },
     "execution_count": 7,
     "metadata": {},
     "output_type": "execute_result"
    }
   ],
   "source": [
    "r1 = np.array([2, 3, 7])\n",
    "r2 = np.array([5, 8, 1])\n",
    "X1 = np.array([r1, r2])\n",
    "\n",
    "X2 = np.matrix([[2, 3, 7], [5, 8, 1]])\n",
    "X1, X2"
   ]
  },
  {
   "cell_type": "code",
   "execution_count": 13,
   "metadata": {},
   "outputs": [
    {
     "data": {
      "text/plain": [
       "(2, 3)"
      ]
     },
     "execution_count": 13,
     "metadata": {},
     "output_type": "execute_result"
    }
   ],
   "source": [
    "# X1.shape, X2.shape\n",
    "N, T = X1.shape\n",
    "ones = np.ones(T)\n",
    "onesT = np.ones((1, T))\n",
    "\n",
    "m = (1 / T) * X2 @ ones\n",
    "N, T\n"
   ]
  },
  {
   "cell_type": "code",
   "execution_count": 12,
   "metadata": {},
   "outputs": [
    {
     "data": {
      "text/plain": [
       "(array([[ 4.66666667, -5.        ],\n",
       "        [-5.        ,  8.22222222]]),\n",
       " array([[ 4.66666667, -5.        ],\n",
       "        [-5.        ,  8.22222222]]))"
      ]
     },
     "execution_count": 12,
     "metadata": {},
     "output_type": "execute_result"
    }
   ],
   "source": [
    "C = np.eye(T) - np.ones((T, T)) / T\n",
    "cov = (1/ T) * X1 @ C @ X1.T # biased\n",
    "# cov = (1/ (T - 1)) * X1 @ C @ X1.T # unbiased\n",
    "cov\n",
    "\n",
    "# numpy equivalent\n",
    "np.cov(X1)\n",
    "np.cov(X1, bias = True), cov"
   ]
  },
  {
   "cell_type": "code",
   "execution_count": 91,
   "metadata": {},
   "outputs": [
    {
     "data": {
      "text/plain": [
       "matrix([[ 4.66666667, -5.        ],\n",
       "        [-5.        ,  8.22222222]])"
      ]
     },
     "execution_count": 91,
     "metadata": {},
     "output_type": "execute_result"
    }
   ],
   "source": [
    "cov = (1 / T) * (X1 - m.T @ onesT) @ (X1 - m.T @ onesT).T\n",
    "cov\n"
   ]
  },
  {
   "cell_type": "markdown",
   "metadata": {},
   "source": [
    "### Single-index covariance matrix estimator"
   ]
  },
  {
   "cell_type": "code",
   "execution_count": 100,
   "metadata": {},
   "outputs": [],
   "source": [
    "T = 10\n",
    "N = 4\n",
    "\n",
    "market = 0.15 * np.random.randn(T)\n",
    "market\n",
    "\n",
    "# Simulate stock returns: each stock has its own beta plus idiosyncratic noise\n",
    "true_betas = np.array([1.0, 0.8, 1.2, 0.5])\n",
    "true_alphas = np.array([0.001, -0.0005, 0.0007, 0.0])\n",
    "res_sd = np.array([0.10, 0.08, 0.12, 0.09])\n",
    "\n",
    "\n",
    "\n",
    "# X = true_alphas[:, None] + true_betas[:, None] * market + res_sd[:, None] * np.random.randn(N, T)\n",
    "X = true_alphas[:, None] + true_betas[:, None] * market + res_sd[:, None] * np.random.randn(N, T)\n",
    "X\n",
    "\n",
    "mean_market = market.mean()\n",
    "mean_assets = X.mean(axis=1)"
   ]
  },
  {
   "cell_type": "code",
   "execution_count": 101,
   "metadata": {},
   "outputs": [
    {
     "data": {
      "text/plain": [
       "array([[-0.25867971, -0.1227397 ,  0.31068824,  0.23343724, -0.14045157,\n",
       "         0.04843621,  0.25704411,  0.03721777,  0.00187168, -0.07490585],\n",
       "       [-0.11016023,  0.06730497,  0.11465434,  0.16398198, -0.01759751,\n",
       "        -0.00740461,  0.17287982,  0.07427932, -0.13272981,  0.08698662],\n",
       "       [-0.37198163, -0.0124372 ,  0.27439286,  0.18899402, -0.1594805 ,\n",
       "        -0.15665467,  0.25302041,  0.12726531, -0.26113185,  0.1076859 ],\n",
       "       [-0.09962955,  0.25087229,  0.13455012,  0.03727134, -0.11305054,\n",
       "        -0.06256214,  0.15284172, -0.03303238, -0.03332736,  0.02796565]])"
      ]
     },
     "execution_count": 101,
     "metadata": {},
     "output_type": "execute_result"
    }
   ],
   "source": [
    "X"
   ]
  },
  {
   "cell_type": "code",
   "execution_count": 102,
   "metadata": {},
   "outputs": [
    {
     "data": {
      "text/plain": [
       "array([ 0.02919184,  0.04121949, -0.00103274,  0.02618992])"
      ]
     },
     "execution_count": 102,
     "metadata": {},
     "output_type": "execute_result"
    }
   ],
   "source": [
    "mean_assets"
   ]
  },
  {
   "cell_type": "code",
   "execution_count": 104,
   "metadata": {},
   "outputs": [
    {
     "data": {
      "text/plain": [
       "np.float64(5.477225575051661)"
      ]
     },
     "execution_count": 104,
     "metadata": {},
     "output_type": "execute_result"
    }
   ],
   "source": [
    "A = np.matrix([[1, 2], [3, 4]])\n",
    "np.linalg.norm(A, 'fro')"
   ]
  }
 ],
 "metadata": {
  "kernelspec": {
   "display_name": "venv",
   "language": "python",
   "name": "python3"
  },
  "language_info": {
   "codemirror_mode": {
    "name": "ipython",
    "version": 3
   },
   "file_extension": ".py",
   "mimetype": "text/x-python",
   "name": "python",
   "nbconvert_exporter": "python",
   "pygments_lexer": "ipython3",
   "version": "3.11.8"
  }
 },
 "nbformat": 4,
 "nbformat_minor": 2
}
