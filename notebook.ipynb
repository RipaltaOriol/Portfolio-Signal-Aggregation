{
 "cells": [
  {
   "cell_type": "code",
   "execution_count": 1,
   "metadata": {},
   "outputs": [],
   "source": [
    "%load_ext autoreload\n",
    "%autoreload 2"
   ]
  },
  {
   "cell_type": "code",
   "execution_count": 39,
   "metadata": {},
   "outputs": [],
   "source": [
    "import pandas as pd\n",
    "tickers = pd.read_csv(\"data/stock_etf_tickers.csv\")\n",
    "tickers = list(tickers.Ticker)"
   ]
  },
  {
   "cell_type": "code",
   "execution_count": 45,
   "metadata": {},
   "outputs": [
    {
     "name": "stderr",
     "output_type": "stream",
     "text": [
      "[*********************100%***********************]  96 of 96 completed\n"
     ]
    }
   ],
   "source": [
    "from src.DataCollector import DataCollector\n",
    "\n",
    "dc = DataCollector(tickers)\n",
    "rt = dc.get_returns()"
   ]
  },
  {
   "cell_type": "code",
   "execution_count": 51,
   "metadata": {},
   "outputs": [
    {
     "ename": "TypeError",
     "evalue": "unhashable type: 'dict'",
     "output_type": "error",
     "traceback": [
      "\u001b[0;31m---------------------------------------------------------------------------\u001b[0m",
      "\u001b[0;31mTypeError\u001b[0m                                 Traceback (most recent call last)",
      "Cell \u001b[0;32mIn[51], line 5\u001b[0m\n\u001b[1;32m      1\u001b[0m \u001b[38;5;28;01mfrom\u001b[39;00m\u001b[38;5;250m \u001b[39m\u001b[38;5;21;01msrc\u001b[39;00m\u001b[38;5;21;01m.\u001b[39;00m\u001b[38;5;21;01mPortfolio\u001b[39;00m\u001b[38;5;250m \u001b[39m\u001b[38;5;28;01mimport\u001b[39;00m Portfolio\n\u001b[1;32m      3\u001b[0m portfolio \u001b[38;5;241m=\u001b[39m Portfolio(rt)\n\u001b[0;32m----> 5\u001b[0m \u001b[43mportfolio\u001b[49m\u001b[38;5;241;43m.\u001b[39;49m\u001b[43mget_max_sharpe\u001b[49m\u001b[43m(\u001b[49m\u001b[43m)\u001b[49m\n",
      "File \u001b[0;32m~/Desktop/Research/Portfolio/src/Portfolio.py:20\u001b[0m, in \u001b[0;36mPortfolio.get_max_sharpe\u001b[0;34m(self, rf)\u001b[0m\n\u001b[1;32m     17\u001b[0m     sharpe \u001b[38;5;241m=\u001b[39m (ret \u001b[38;5;241m-\u001b[39m rf) \u001b[38;5;241m/\u001b[39m vol\n\u001b[1;32m     18\u001b[0m     \u001b[38;5;28;01mreturn\u001b[39;00m \u001b[38;5;241m-\u001b[39msharpe\n\u001b[0;32m---> 20\u001b[0m constraints \u001b[38;5;241m=\u001b[39m {{\u001b[38;5;124m\"\u001b[39m\u001b[38;5;124mtype\u001b[39m\u001b[38;5;124m\"\u001b[39m: \u001b[38;5;124m\"\u001b[39m\u001b[38;5;124meq\u001b[39m\u001b[38;5;124m\"\u001b[39m, \u001b[38;5;124m\"\u001b[39m\u001b[38;5;124mfun\u001b[39m\u001b[38;5;124m\"\u001b[39m: \u001b[38;5;28;01mlambda\u001b[39;00m x: np\u001b[38;5;241m.\u001b[39msum(x) \u001b[38;5;241m-\u001b[39m \u001b[38;5;241m1\u001b[39m}}\n\u001b[1;32m     21\u001b[0m bounds \u001b[38;5;241m=\u001b[39m \u001b[38;5;28mtuple\u001b[39m((\u001b[38;5;241m0\u001b[39m, \u001b[38;5;241m1\u001b[39m) \u001b[38;5;28;01mfor\u001b[39;00m _ \u001b[38;5;129;01min\u001b[39;00m \u001b[38;5;28mrange\u001b[39m(n)) \u001b[38;5;66;03m# problem here: allow shorts\u001b[39;00m\n\u001b[1;32m     22\u001b[0m init_guess \u001b[38;5;241m=\u001b[39m np\u001b[38;5;241m.\u001b[39marray([\u001b[38;5;241m1.\u001b[39m \u001b[38;5;241m/\u001b[39m n] \u001b[38;5;241m*\u001b[39m n)\n",
      "\u001b[0;31mTypeError\u001b[0m: unhashable type: 'dict'"
     ]
    }
   ],
   "source": [
    "from src.Portfolio import Portfolio\n",
    "\n",
    "portfolio = Portfolio(rt)\n",
    "\n",
    "portfolio.get_max_sharpe()"
   ]
  },
  {
   "cell_type": "code",
   "execution_count": 34,
   "metadata": {},
   "outputs": [
    {
     "data": {
      "text/plain": [
       "{'IWB', 'IWM'}"
      ]
     },
     "execution_count": 34,
     "metadata": {},
     "output_type": "execute_result"
    }
   ],
   "source": [
    "set([x for x in tickers if tickers.count(x) > 1])"
   ]
  },
  {
   "cell_type": "code",
   "execution_count": 33,
   "metadata": {},
   "outputs": [
    {
     "data": {
      "text/plain": [
       "['MSFT',\n",
       " 'AAPL',\n",
       " 'NVDA',\n",
       " 'AMZN',\n",
       " 'GOOG',\n",
       " 'META',\n",
       " 'BRK.B',\n",
       " 'AVGO',\n",
       " 'TSLA',\n",
       " 'WMT',\n",
       " 'LLY',\n",
       " 'JPM',\n",
       " 'V',\n",
       " 'UNH',\n",
       " 'MA',\n",
       " 'XOM',\n",
       " 'PG',\n",
       " 'JNJ',\n",
       " 'CVX',\n",
       " 'HD',\n",
       " 'PFE',\n",
       " 'BAC',\n",
       " 'PEP',\n",
       " 'CSCO',\n",
       " 'ORCL',\n",
       " 'INTC',\n",
       " 'ADBE',\n",
       " 'CRM',\n",
       " 'MCD',\n",
       " 'VZ',\n",
       " 'T',\n",
       " 'DIS',\n",
       " 'NFLX',\n",
       " 'CMCSA',\n",
       " 'IBM',\n",
       " 'QCOM',\n",
       " 'MDT',\n",
       " 'ABBV',\n",
       " 'HON',\n",
       " 'BA',\n",
       " 'SBUX',\n",
       " 'CAT',\n",
       " 'GS',\n",
       " 'AXP',\n",
       " 'PYPL',\n",
       " 'INTU',\n",
       " 'MRNA',\n",
       " 'ZM',\n",
       " 'SHOP',\n",
       " 'SQ',\n",
       " 'VOO',\n",
       " 'SPY',\n",
       " 'IVV',\n",
       " 'VTI',\n",
       " 'QQQ',\n",
       " 'VUG',\n",
       " 'VEA',\n",
       " 'VTV',\n",
       " 'IEFA',\n",
       " 'BND',\n",
       " 'AGG',\n",
       " 'IWF',\n",
       " 'VWO',\n",
       " 'IWM',\n",
       " 'VB',\n",
       " 'VYM',\n",
       " 'EEM',\n",
       " 'XLK',\n",
       " 'XLF',\n",
       " 'XLV',\n",
       " 'XLE',\n",
       " 'XLY',\n",
       " 'XLI',\n",
       " 'XLC',\n",
       " 'XLU',\n",
       " 'XLB',\n",
       " 'IWB',\n",
       " 'IWR',\n",
       " 'IWN',\n",
       " 'MTUM',\n",
       " 'QUAL',\n",
       " 'USMV',\n",
       " 'VBR',\n",
       " 'VO',\n",
       " 'VOT',\n",
       " 'SCHD',\n",
       " 'IWD',\n",
       " 'RSP',\n",
       " 'ARKK',\n",
       " 'ARKW',\n",
       " 'ARKG',\n",
       " 'IHI',\n",
       " 'IBB',\n",
       " 'XBI',\n",
       " 'VGT',\n",
       " 'SMH',\n",
       " 'LQD',\n",
       " 'SHY']"
      ]
     },
     "execution_count": 33,
     "metadata": {},
     "output_type": "execute_result"
    }
   ],
   "source": [
    "uniq, "
   ]
  }
 ],
 "metadata": {
  "kernelspec": {
   "display_name": "venv",
   "language": "python",
   "name": "python3"
  },
  "language_info": {
   "codemirror_mode": {
    "name": "ipython",
    "version": 3
   },
   "file_extension": ".py",
   "mimetype": "text/x-python",
   "name": "python",
   "nbconvert_exporter": "python",
   "pygments_lexer": "ipython3",
   "version": "3.8.17"
  }
 },
 "nbformat": 4,
 "nbformat_minor": 2
}
