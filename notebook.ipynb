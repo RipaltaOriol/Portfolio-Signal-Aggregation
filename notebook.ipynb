{
 "cells": [
  {
   "cell_type": "code",
   "execution_count": 13,
   "metadata": {},
   "outputs": [
    {
     "name": "stdout",
     "output_type": "stream",
     "text": [
      "The autoreload extension is already loaded. To reload it, use:\n",
      "  %reload_ext autoreload\n"
     ]
    }
   ],
   "source": [
    "%load_ext autoreload\n",
    "%autoreload 2"
   ]
  },
  {
   "cell_type": "code",
   "execution_count": 74,
   "metadata": {},
   "outputs": [],
   "source": [
    "import numpy as np\n",
    "import pandas as pd\n",
    "tickers = pd.read_csv(\"data/stock_etf_tickers.csv\")\n",
    "# tickers = list(tickers.Ticker)\n",
    "tickers = ['MSFT', \"AAPL\", \"NVDA\", \"AMZN\"]\n",
    "# tickers = ['XOM']"
   ]
  },
  {
   "cell_type": "code",
   "execution_count": null,
   "metadata": {},
   "outputs": [
    {
     "name": "stderr",
     "output_type": "stream",
     "text": [
      "[*********************100%***********************]  4 of 4 completed\n"
     ]
    },
    {
     "data": {
      "text/html": [
       "<div>\n",
       "<style scoped>\n",
       "    .dataframe tbody tr th:only-of-type {\n",
       "        vertical-align: middle;\n",
       "    }\n",
       "\n",
       "    .dataframe tbody tr th {\n",
       "        vertical-align: top;\n",
       "    }\n",
       "\n",
       "    .dataframe thead th {\n",
       "        text-align: right;\n",
       "    }\n",
       "</style>\n",
       "<table border=\"1\" class=\"dataframe\">\n",
       "  <thead>\n",
       "    <tr style=\"text-align: right;\">\n",
       "      <th>Ticker</th>\n",
       "      <th>AAPL</th>\n",
       "      <th>AMZN</th>\n",
       "      <th>MSFT</th>\n",
       "      <th>NVDA</th>\n",
       "    </tr>\n",
       "    <tr>\n",
       "      <th>Date</th>\n",
       "      <th></th>\n",
       "      <th></th>\n",
       "      <th></th>\n",
       "      <th></th>\n",
       "    </tr>\n",
       "  </thead>\n",
       "  <tbody>\n",
       "    <tr>\n",
       "      <th>2016-01-05</th>\n",
       "      <td>-0.025059</td>\n",
       "      <td>-0.005024</td>\n",
       "      <td>0.004562</td>\n",
       "      <td>0.016064</td>\n",
       "    </tr>\n",
       "    <tr>\n",
       "      <th>2016-01-06</th>\n",
       "      <td>-0.019570</td>\n",
       "      <td>-0.001799</td>\n",
       "      <td>-0.018165</td>\n",
       "      <td>-0.041350</td>\n",
       "    </tr>\n",
       "    <tr>\n",
       "      <th>2016-01-07</th>\n",
       "      <td>-0.042204</td>\n",
       "      <td>-0.039058</td>\n",
       "      <td>-0.034783</td>\n",
       "      <td>-0.039645</td>\n",
       "    </tr>\n",
       "    <tr>\n",
       "      <th>2016-01-08</th>\n",
       "      <td>0.005288</td>\n",
       "      <td>-0.001464</td>\n",
       "      <td>0.003067</td>\n",
       "      <td>-0.021466</td>\n",
       "    </tr>\n",
       "    <tr>\n",
       "      <th>2016-01-11</th>\n",
       "      <td>0.016192</td>\n",
       "      <td>0.017610</td>\n",
       "      <td>-0.000573</td>\n",
       "      <td>0.001688</td>\n",
       "    </tr>\n",
       "    <tr>\n",
       "      <th>...</th>\n",
       "      <td>...</td>\n",
       "      <td>...</td>\n",
       "      <td>...</td>\n",
       "      <td>...</td>\n",
       "    </tr>\n",
       "    <tr>\n",
       "      <th>2017-12-22</th>\n",
       "      <td>0.000000</td>\n",
       "      <td>-0.005448</td>\n",
       "      <td>0.000117</td>\n",
       "      <td>-0.003165</td>\n",
       "    </tr>\n",
       "    <tr>\n",
       "      <th>2017-12-26</th>\n",
       "      <td>-0.025370</td>\n",
       "      <td>0.007190</td>\n",
       "      <td>-0.001286</td>\n",
       "      <td>0.011113</td>\n",
       "    </tr>\n",
       "    <tr>\n",
       "      <th>2017-12-27</th>\n",
       "      <td>0.000176</td>\n",
       "      <td>0.004674</td>\n",
       "      <td>0.003630</td>\n",
       "      <td>-0.001368</td>\n",
       "    </tr>\n",
       "    <tr>\n",
       "      <th>2017-12-28</th>\n",
       "      <td>0.002813</td>\n",
       "      <td>0.003248</td>\n",
       "      <td>0.000117</td>\n",
       "      <td>0.001167</td>\n",
       "    </tr>\n",
       "    <tr>\n",
       "      <th>2017-12-29</th>\n",
       "      <td>-0.010813</td>\n",
       "      <td>-0.014021</td>\n",
       "      <td>-0.002100</td>\n",
       "      <td>-0.019757</td>\n",
       "    </tr>\n",
       "  </tbody>\n",
       "</table>\n",
       "<p>502 rows × 4 columns</p>\n",
       "</div>"
      ],
      "text/plain": [
       "Ticker          AAPL      AMZN      MSFT      NVDA\n",
       "Date                                              \n",
       "2016-01-05 -0.025059 -0.005024  0.004562  0.016064\n",
       "2016-01-06 -0.019570 -0.001799 -0.018165 -0.041350\n",
       "2016-01-07 -0.042204 -0.039058 -0.034783 -0.039645\n",
       "2016-01-08  0.005288 -0.001464  0.003067 -0.021466\n",
       "2016-01-11  0.016192  0.017610 -0.000573  0.001688\n",
       "...              ...       ...       ...       ...\n",
       "2017-12-22  0.000000 -0.005448  0.000117 -0.003165\n",
       "2017-12-26 -0.025370  0.007190 -0.001286  0.011113\n",
       "2017-12-27  0.000176  0.004674  0.003630 -0.001368\n",
       "2017-12-28  0.002813  0.003248  0.000117  0.001167\n",
       "2017-12-29 -0.010813 -0.014021 -0.002100 -0.019757\n",
       "\n",
       "[502 rows x 4 columns]"
      ]
     },
     "execution_count": 58,
     "metadata": {},
     "output_type": "execute_result"
    }
   ],
   "source": [
    "from src.DataCollector import DataCollector\n",
    "from src.Statistics import Statistics\n",
    "from src.Portfolio import Portfolio\n",
    "\n",
    "\n",
    "dc = DataCollector(tickers, \"2016-01-01\", \"2017-12-31\")\n",
    "rt = dc.get_returns()\n",
    "rt "
   ]
  },
  {
   "cell_type": "code",
   "execution_count": 30,
   "metadata": {},
   "outputs": [
    {
     "data": {
      "text/plain": [
       "(502, 4)"
      ]
     },
     "execution_count": 30,
     "metadata": {},
     "output_type": "execute_result"
    }
   ],
   "source": [
    "rt.shape"
   ]
  },
  {
   "cell_type": "code",
   "execution_count": 33,
   "metadata": {},
   "outputs": [
    {
     "data": {
      "text/plain": [
       "DatetimeIndex(['2016-01-01', '2016-02-01', '2016-03-01', '2016-04-01',\n",
       "               '2016-05-01', '2016-06-01', '2016-07-01', '2016-08-01',\n",
       "               '2016-09-01', '2016-10-01', '2016-11-01', '2016-12-01',\n",
       "               '2017-01-01', '2017-02-01', '2017-03-01', '2017-04-01',\n",
       "               '2017-05-01', '2017-06-01', '2017-07-01', '2017-08-01',\n",
       "               '2017-09-01', '2017-10-01', '2017-11-01', '2017-12-01'],\n",
       "              dtype='datetime64[ns]', name='Date', freq='MS')"
      ]
     },
     "execution_count": 33,
     "metadata": {},
     "output_type": "execute_result"
    }
   ],
   "source": [
    "months = rt.resample(\"MS\").last().index\n",
    "months"
   ]
  },
  {
   "cell_type": "code",
   "execution_count": null,
   "metadata": {},
   "outputs": [
    {
     "data": {
      "text/plain": [
       "Date\n",
       "2017-01-03    0.003950\n",
       "2017-01-04   -0.001088\n",
       "2017-01-05    0.006546\n",
       "2017-01-06    0.011742\n",
       "2017-01-09    0.003546\n",
       "                ...   \n",
       "2017-11-24   -0.001941\n",
       "2017-11-27    0.002658\n",
       "2017-11-28    0.007184\n",
       "2017-11-29   -0.017206\n",
       "2017-11-30    0.010935\n",
       "Length: 231, dtype: float64"
      ]
     },
     "execution_count": 141,
     "metadata": {},
     "output_type": "execute_result"
    }
   ],
   "source": [
    "stats = Statistics()\n",
    "port_rt = []\n",
    "\n",
    "for i in range(12, len(months) - 1):\n",
    "    beg = months[i - 12]\n",
    "    end = months[i]\n",
    "    \n",
    "    train_rt = rt[(rt.index >= beg) & (rt.index < end)]\n",
    "    stats.set_rets(train_rt)\n",
    "    mu = stats.get_mu()\n",
    "    cov = stats.get_cov()\n",
    "    \n",
    "    portfolio = Portfolio(mu, cov)\n",
    "\n",
    "    # weights at the start of rebalancing period\n",
    "    init_weights = portfolio.get_MVP()\n",
    "\n",
    "    # out-sample data\n",
    "    test_rt = rt[(rt.index >= end) & (rt.index < months[i + 1])]\n",
    "    gross_rt = (1 + test_rt)\n",
    "    securities_n = test_rt.shape[1]\n",
    "\n",
    "    # calculate rolling weights (no artificial daily rebalancing)\n",
    "    rolling_weights = init_weights.T * gross_rt.cumprod()\n",
    "    rolling_weights = rolling_weights.shift(1)\n",
    "    rolling_weights.iloc[0] = init_weights.T\n",
    "    \n",
    "    stock_rt = rolling_weights * test_rt\n",
    "    period_rt = stock_rt @ np.ones(securities_n)\n",
    "    port_rt.append(period_rt)\n",
    "\n",
    "port_rt = (pd.concat(port_rt, axis = 0).sort_index().astype(float))\n",
    "port_rt\n",
    "# MISSING ONE MONTH. WHY??\n",
    "\n",
    "\n",
    "\n",
    "    "
   ]
  },
  {
   "cell_type": "code",
   "execution_count": 4,
   "metadata": {},
   "outputs": [
    {
     "data": {
      "text/plain": [
       "(array([[1.23488514e-04, 7.49073178e-05, 4.53916680e-05, 9.97277804e-05],\n",
       "        [7.49073178e-05, 1.75081436e-04, 7.67230560e-05, 9.96229457e-05],\n",
       "        [4.53916680e-05, 7.67230560e-05, 8.71717579e-05, 7.88134930e-05],\n",
       "        [9.97277804e-05, 9.96229457e-05, 7.88134930e-05, 6.40931320e-04]]),\n",
       " array([[0.00163171],\n",
       "        [0.00184352],\n",
       "        [0.00138252],\n",
       "        [0.00289392]]))"
      ]
     },
     "execution_count": 4,
     "metadata": {},
     "output_type": "execute_result"
    }
   ],
   "source": [
    "stats = Statistics(rt)\n",
    "mu = stats.get_mu()\n",
    "cov = stats.get_cov()\n",
    "cov, mu"
   ]
  },
  {
   "cell_type": "code",
   "execution_count": 60,
   "metadata": {},
   "outputs": [
    {
     "data": {
      "text/plain": [
       "array([[0.44846811],\n",
       "       [0.10134179],\n",
       "       [0.29325328],\n",
       "       [0.15693682]])"
      ]
     },
     "execution_count": 60,
     "metadata": {},
     "output_type": "execute_result"
    }
   ],
   "source": [
    "import numpy as np\n",
    "\n",
    "# CONSTRAINED\n",
    "mu_p = 0.002\n",
    "N = mu.shape[0]\n",
    "ones = np.ones((N, 1))\n",
    "onesT = np.ones((1, N))\n",
    "muT = mu.reshape(1, -1)\n",
    "cov_inv = np.linalg.inv(cov)\n",
    "ones, onesT\n",
    "\n",
    "A = onesT @ cov_inv @ ones\n",
    "B = muT @ cov_inv @ ones\n",
    "C = muT @ cov_inv @ mu\n",
    "delta = A * C - B ** 2\n",
    "lambda1 = (C - B * mu_p) / delta\n",
    "lambda2 = (A * mu_p - B) / delta\n",
    "w = lambda1 * cov_inv @ ones + lambda2 * cov_inv @ mu\n",
    "w\n"
   ]
  },
  {
   "cell_type": "code",
   "execution_count": 23,
   "metadata": {},
   "outputs": [
    {
     "name": "stdout",
     "output_type": "stream",
     "text": [
      "Expected return: [[0.00142284]]\n",
      "Expected sigma ^ 2: [[0.00849488]]\n"
     ]
    }
   ],
   "source": [
    "# expected return of unconstrained\n",
    "print(f\"Expected return: {w.T @ mu}\")\n",
    "# expected variance of unconstrined\n",
    "var = w.T @ cov @ w\n",
    "print(f\"Expected sigma ^ 2: {np.sqrt(var)}\")\n",
    "\n"
   ]
  },
  {
   "cell_type": "code",
   "execution_count": 26,
   "metadata": {},
   "outputs": [
    {
     "data": {
      "text/plain": [
       "array([[0.00142284]])"
      ]
     },
     "execution_count": 26,
     "metadata": {},
     "output_type": "execute_result"
    }
   ],
   "source": [
    "np.dot(w.T, mu)"
   ]
  },
  {
   "cell_type": "code",
   "execution_count": 37,
   "metadata": {},
   "outputs": [
    {
     "data": {
      "text/plain": [
       "Date\n",
       "2017-01-04    0.0079\n",
       "2017-01-05   -0.0021\n",
       "2017-01-06    0.0029\n",
       "2017-01-09   -0.0037\n",
       "2017-01-10    0.0016\n",
       "               ...  \n",
       "2017-12-22   -0.0007\n",
       "2017-12-26   -0.0007\n",
       "2017-12-27    0.0005\n",
       "2017-12-28    0.0022\n",
       "2017-12-29   -0.0057\n",
       "Name: Mkt-RF, Length: 250, dtype: float64"
      ]
     },
     "execution_count": 37,
     "metadata": {},
     "output_type": "execute_result"
    }
   ],
   "source": [
    "ff = pd.read_csv(\"data/ff_daily.csv\")\n",
    "ff['Date'] = pd.to_datetime(ff['Date'], format = \"%Y%m%d\")\n",
    "ff.set_index('Date', inplace = True)\n",
    "common = rt.index.intersection(ff.index)\n",
    "ff = ff.loc[common]\n",
    "mkt = ff['Mkt-RF'] / 100\n",
    "mkt"
   ]
  },
  {
   "cell_type": "code",
   "execution_count": 45,
   "metadata": {},
   "outputs": [
    {
     "data": {
      "text/html": [
       "<div>\n",
       "<style scoped>\n",
       "    .dataframe tbody tr th:only-of-type {\n",
       "        vertical-align: middle;\n",
       "    }\n",
       "\n",
       "    .dataframe tbody tr th {\n",
       "        vertical-align: top;\n",
       "    }\n",
       "\n",
       "    .dataframe thead th {\n",
       "        text-align: right;\n",
       "    }\n",
       "</style>\n",
       "<table border=\"1\" class=\"dataframe\">\n",
       "  <thead>\n",
       "    <tr style=\"text-align: right;\">\n",
       "      <th></th>\n",
       "      <th>MSFT</th>\n",
       "      <th>AAPL</th>\n",
       "      <th>NVDA</th>\n",
       "      <th>AMZN</th>\n",
       "    </tr>\n",
       "  </thead>\n",
       "  <tbody>\n",
       "    <tr>\n",
       "      <th>alpha</th>\n",
       "      <td>0.000507</td>\n",
       "      <td>0.000723</td>\n",
       "      <td>0.001320</td>\n",
       "      <td>0.000973</td>\n",
       "    </tr>\n",
       "    <tr>\n",
       "      <th>beta</th>\n",
       "      <td>1.157999</td>\n",
       "      <td>1.201533</td>\n",
       "      <td>2.082481</td>\n",
       "      <td>1.151410</td>\n",
       "    </tr>\n",
       "    <tr>\n",
       "      <th>resid_var</th>\n",
       "      <td>0.000059</td>\n",
       "      <td>0.000093</td>\n",
       "      <td>0.000549</td>\n",
       "      <td>0.000147</td>\n",
       "    </tr>\n",
       "  </tbody>\n",
       "</table>\n",
       "</div>"
      ],
      "text/plain": [
       "               MSFT      AAPL      NVDA      AMZN\n",
       "alpha      0.000507  0.000723  0.001320  0.000973\n",
       "beta       1.157999  1.201533  2.082481  1.151410\n",
       "resid_var  0.000059  0.000093  0.000549  0.000147"
      ]
     },
     "execution_count": 45,
     "metadata": {},
     "output_type": "execute_result"
    }
   ],
   "source": [
    "import statsmodels.api as sm\n",
    "\n",
    "alphas = {}\n",
    "betas = {}\n",
    "resvars = {}\n",
    "\n",
    "for stock in tickers:\n",
    "    y = rt[stock]\n",
    "    Xdesign = sm.add_constant(mkt)\n",
    "    model = sm.OLS(y, Xdesign).fit()\n",
    "\n",
    "    alphas[stock]  = model.params[\"const\"]\n",
    "    betas[stock]   = model.params[\"Mkt-RF\"]\n",
    "    resvars[stock] = model.resid.var(ddof=0)\n",
    "\n",
    "summary = pd.DataFrame({\n",
    "    \"alpha\"     : alphas,\n",
    "    \"beta\"      : betas,\n",
    "    \"resid_var\" : resvars\n",
    "}).T\n",
    "\n",
    "summary"
   ]
  },
  {
   "cell_type": "code",
   "execution_count": 104,
   "metadata": {},
   "outputs": [
    {
     "name": "stdout",
     "output_type": "stream",
     "text": [
      "(250, 4)\n",
      "DatetimeIndex(['2017-01-04', '2017-01-05', '2017-01-06'], dtype='datetime64[ns]', name='Date', freq=None) ← index\n",
      "Index(['AAPL', 'AMZN', 'MSFT'], dtype='object', name='Ticker') ← columns\n",
      "['MSFT', 'AAPL', 'NVDA', 'AMZN'] ['AAPL', 'AMZN', 'MSFT', 'NVDA']\n"
     ]
    },
    {
     "data": {
      "text/html": [
       "<div>\n",
       "<style scoped>\n",
       "    .dataframe tbody tr th:only-of-type {\n",
       "        vertical-align: middle;\n",
       "    }\n",
       "\n",
       "    .dataframe tbody tr th {\n",
       "        vertical-align: top;\n",
       "    }\n",
       "\n",
       "    .dataframe thead th {\n",
       "        text-align: right;\n",
       "    }\n",
       "</style>\n",
       "<table border=\"1\" class=\"dataframe\">\n",
       "  <thead>\n",
       "    <tr style=\"text-align: right;\">\n",
       "      <th></th>\n",
       "      <th>alpha</th>\n",
       "      <th>beta</th>\n",
       "      <th>resid_var</th>\n",
       "    </tr>\n",
       "  </thead>\n",
       "  <tbody>\n",
       "    <tr>\n",
       "      <th>AAPL</th>\n",
       "      <td>0.000723</td>\n",
       "      <td>1.201533</td>\n",
       "      <td>0.000093</td>\n",
       "    </tr>\n",
       "    <tr>\n",
       "      <th>AMZN</th>\n",
       "      <td>0.000973</td>\n",
       "      <td>1.151410</td>\n",
       "      <td>0.000147</td>\n",
       "    </tr>\n",
       "    <tr>\n",
       "      <th>MSFT</th>\n",
       "      <td>0.000507</td>\n",
       "      <td>1.157999</td>\n",
       "      <td>0.000059</td>\n",
       "    </tr>\n",
       "    <tr>\n",
       "      <th>NVDA</th>\n",
       "      <td>0.001320</td>\n",
       "      <td>2.082481</td>\n",
       "      <td>0.000549</td>\n",
       "    </tr>\n",
       "  </tbody>\n",
       "</table>\n",
       "</div>"
      ],
      "text/plain": [
       "         alpha      beta  resid_var\n",
       "AAPL  0.000723  1.201533   0.000093\n",
       "AMZN  0.000973  1.151410   0.000147\n",
       "MSFT  0.000507  1.157999   0.000059\n",
       "NVDA  0.001320  2.082481   0.000549"
      ]
     },
     "execution_count": 104,
     "metadata": {},
     "output_type": "execute_result"
    }
   ],
   "source": [
    "print(rt.shape)\n",
    "print(rt.index[:3], \"← index\")\n",
    "print(rt.columns[:3], \"← columns\")\n",
    "\n",
    "market = mkt.to_numpy()\n",
    "x = rt.to_numpy().T\n",
    "m_bar = market.mean()\n",
    "x_bar = x.mean(axis = 1, keepdims = True)\n",
    "x_bar\n",
    "\n",
    "N, T = x.shape\n",
    "assert len(tickers) == N\n",
    "print(tickers, rt.columns.to_list())\n",
    "\n",
    "m_c = market - m_bar\n",
    "x_c = x - x_bar\n",
    "\n",
    "beta_hat = (x_c @ m_c) / (m_c @ m_c)\n",
    "beta_hat\n",
    "\n",
    "alpha_hat = x_bar.flatten() - beta_hat * m_bar\n",
    "alpha_hat\n",
    "\n",
    "eps = x - alpha_hat[:, None] - beta_hat[:, None] * market\n",
    "resid_var  = (eps ** 2).mean(axis=1)\n",
    "resid_var\n",
    "\n",
    "results = pd.DataFrame(\n",
    "    {\"alpha\": alpha_hat,\n",
    "     \"beta\":  beta_hat,\n",
    "     \"resid_var\": resid_var},\n",
    "    index=rt.columns.to_list()\n",
    ")\n",
    "results"
   ]
  },
  {
   "cell_type": "code",
   "execution_count": 49,
   "metadata": {},
   "outputs": [
    {
     "data": {
      "text/plain": [
       "array([[-0.0979157 , -0.02554747,  0.12066443, -0.11500772, -0.04471057,\n",
       "         0.35143176,  0.0890803 ,  0.0430127 ,  0.01592689,  0.3522757 ],\n",
       "       [-0.31609393, -0.06802273,  0.10060396, -0.00764949, -0.10444228,\n",
       "         0.30442484,  0.03838578,  0.08427627,  0.06994382,  0.10384034],\n",
       "       [-0.48921728, -0.35371742,  0.21130517, -0.17983523, -0.2910925 ,\n",
       "         0.42164161,  0.05676357,  0.03716657,  0.16461968,  0.29032658],\n",
       "       [-0.25466967,  0.08526089,  0.14645724, -0.02747931, -0.16622787,\n",
       "         0.32256134,  0.0922575 ,  0.13252063, -0.05082654,  0.09322504]])"
      ]
     },
     "execution_count": 49,
     "metadata": {},
     "output_type": "execute_result"
    }
   ],
   "source": [
    "import numpy as np\n",
    "\n",
    "T = 10\n",
    "N = 4\n",
    "\n",
    "market = 0.15 * np.random.randn(T)\n",
    "\n",
    "true_betas = np.array([1.0, 0.8, 1.2, 0.5])\n",
    "true_alphas = np.array([0.001, -0.0005, 0.0007, 0.0])\n",
    "res_sd = np.array([0.10, 0.08, 0.12, 0.09])\n",
    "\n",
    "X = true_alphas[:, None] + true_betas[:, None] * market + res_sd[:, None] * np.random.randn(N, T)\n",
    "X"
   ]
  }
 ],
 "metadata": {
  "kernelspec": {
   "display_name": "venv",
   "language": "python",
   "name": "python3"
  },
  "language_info": {
   "codemirror_mode": {
    "name": "ipython",
    "version": 3
   },
   "file_extension": ".py",
   "mimetype": "text/x-python",
   "name": "python",
   "nbconvert_exporter": "python",
   "pygments_lexer": "ipython3",
   "version": "3.8.17"
  }
 },
 "nbformat": 4,
 "nbformat_minor": 2
}
